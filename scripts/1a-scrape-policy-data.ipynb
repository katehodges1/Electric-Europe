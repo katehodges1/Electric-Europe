{
 "cells": [
  {
   "cell_type": "markdown",
   "metadata": {},
   "source": [
    "## Scraping Unstructured Policy Data\n",
    "From European Alternative Fuels Agency"
   ]
  },
  {
   "cell_type": "code",
   "execution_count": 2,
   "metadata": {},
   "outputs": [
    {
     "name": "stdout",
     "output_type": "stream",
     "text": [
      "Requirement already satisfied: pyyaml in /opt/anaconda3/envs/envGEOG0178/lib/python3.12/site-packages (6.0.2)\n",
      "Note: you may need to restart the kernel to use updated packages.\n"
     ]
    }
   ],
   "source": [
    "%pip install pyyaml"
   ]
  },
  {
   "cell_type": "markdown",
   "metadata": {},
   "source": [
    "### 0. Setup & Import Libraries"
   ]
  },
  {
   "cell_type": "code",
   "execution_count": 4,
   "metadata": {},
   "outputs": [],
   "source": [
    "\n",
    "from pathlib import Path\n",
    "import os\n",
    "import time\n",
    "import random\n",
    "import re\n",
    "import json\n",
    "from urllib.parse import urljoin\n",
    "from urllib.robotparser import RobotFileParser\n",
    "\n",
    "import requests # for making HTTP requests to web pages\n",
    "from requests.adapters import HTTPAdapter, Retry\n",
    "from bs4 import BeautifulSoup # enables HTML parsing\n",
    "import pandas as pd"
   ]
  },
  {
   "cell_type": "markdown",
   "metadata": {},
   "source": [
    "### 1. Define Target Countries and URLs"
   ]
  },
  {
   "cell_type": "code",
   "execution_count": 6,
   "metadata": {},
   "outputs": [],
   "source": [
    "# define target countries for scraping\n",
    "target_countries = [\n",
    "    \"Austria\",\"Belgium\",\"Bulgaria\",\"Croatia\",\"Cyprus\",\"Czech Republic\",\"Denmark\",\n",
    "    \"Estonia\",\"Finland\",\"France\",\"Germany\",\"Greece\",\"Hungary\",\"Iceland\",\"Ireland\",\n",
    "    \"Italy\",\"Latvia\",\"Liechtenstein\",\"Lithuania\",\"Luxembourg\",\"Malta\",\"Netherlands\",\n",
    "    \"Norway\",\"Poland\",\"Portugal\",\"Romania\",\"Slovakia\",\"Slovenia\",\"Spain\",\"Sweden\",\n",
    "    \"Switzerland\",\"Turkey\",\"United Kingdom\"\n",
    "]\n"
   ]
  },
  {
   "cell_type": "code",
   "execution_count": 7,
   "metadata": {},
   "outputs": [
    {
     "name": "stdout",
     "output_type": "stream",
     "text": [
      "['https://alternative-fuels-observatory.ec.europa.eu/transport-mode/road/austria/incentives-legislations', 'https://alternative-fuels-observatory.ec.europa.eu/transport-mode/road/belgium/incentives-legislations', 'https://alternative-fuels-observatory.ec.europa.eu/transport-mode/road/bulgaria/incentives-legislations', 'https://alternative-fuels-observatory.ec.europa.eu/transport-mode/road/croatia/incentives-legislations', 'https://alternative-fuels-observatory.ec.europa.eu/transport-mode/road/cyprus/incentives-legislations', 'https://alternative-fuels-observatory.ec.europa.eu/transport-mode/road/czech-republic/incentives-legislations', 'https://alternative-fuels-observatory.ec.europa.eu/transport-mode/road/denmark/incentives-legislations', 'https://alternative-fuels-observatory.ec.europa.eu/transport-mode/road/estonia/incentives-legislations', 'https://alternative-fuels-observatory.ec.europa.eu/transport-mode/road/finland/incentives-legislations', 'https://alternative-fuels-observatory.ec.europa.eu/transport-mode/road/france/incentives-legislations', 'https://alternative-fuels-observatory.ec.europa.eu/transport-mode/road/germany/incentives-legislations', 'https://alternative-fuels-observatory.ec.europa.eu/transport-mode/road/greece/incentives-legislations', 'https://alternative-fuels-observatory.ec.europa.eu/transport-mode/road/hungary/incentives-legislations', 'https://alternative-fuels-observatory.ec.europa.eu/transport-mode/road/iceland/incentives-legislations', 'https://alternative-fuels-observatory.ec.europa.eu/transport-mode/road/ireland/incentives-legislations', 'https://alternative-fuels-observatory.ec.europa.eu/transport-mode/road/italy/incentives-legislations', 'https://alternative-fuels-observatory.ec.europa.eu/transport-mode/road/latvia/incentives-legislations', 'https://alternative-fuels-observatory.ec.europa.eu/transport-mode/road/liechtenstein/incentives-legislations', 'https://alternative-fuels-observatory.ec.europa.eu/transport-mode/road/lithuania/incentives-legislations', 'https://alternative-fuels-observatory.ec.europa.eu/transport-mode/road/luxembourg/incentives-legislations', 'https://alternative-fuels-observatory.ec.europa.eu/transport-mode/road/malta/incentives-legislations', 'https://alternative-fuels-observatory.ec.europa.eu/transport-mode/road/netherlands/incentives-legislations', 'https://alternative-fuels-observatory.ec.europa.eu/transport-mode/road/norway/incentives-legislations', 'https://alternative-fuels-observatory.ec.europa.eu/transport-mode/road/poland/incentives-legislations', 'https://alternative-fuels-observatory.ec.europa.eu/transport-mode/road/portugal/incentives-legislations', 'https://alternative-fuels-observatory.ec.europa.eu/transport-mode/road/romania/incentives-legislations', 'https://alternative-fuels-observatory.ec.europa.eu/transport-mode/road/slovakia/incentives-legislations', 'https://alternative-fuels-observatory.ec.europa.eu/transport-mode/road/slovenia/incentives-legislations', 'https://alternative-fuels-observatory.ec.europa.eu/transport-mode/road/spain/incentives-legislations', 'https://alternative-fuels-observatory.ec.europa.eu/transport-mode/road/sweden/incentives-legislations', 'https://alternative-fuels-observatory.ec.europa.eu/transport-mode/road/switzerland/incentives-legislations', 'https://alternative-fuels-observatory.ec.europa.eu/transport-mode/road/turkey/incentives-legislations', 'https://alternative-fuels-observatory.ec.europa.eu/transport-mode/road/united-kingdom/incentives-legislations']\n"
     ]
    }
   ],
   "source": [
    "\n",
    "# define empty list to store\n",
    "country_urls = []\n",
    "\n",
    "for country in target_countries:\n",
    "    slug = country.lower().replace(\" \", \"-\") # all chars lower case, replace white space with url friendly dash\n",
    "    url = f\"https://alternative-fuels-observatory.ec.europa.eu/transport-mode/road/{slug}/incentives-legislations\"\n",
    "    country_urls.append(url)\n",
    "    #print(country, '->', url) #print to confirm\n",
    "\n",
    "print(country_urls)"
   ]
  },
  {
   "cell_type": "markdown",
   "metadata": {},
   "source": [
    "### 2. Understanding Web Page Structure\n",
    "Since the goal was to scrape policy sub-headings and text on each web page, it was first essential to understand the page structure, and where the relevant information was stored.\n",
    "\n",
    "Using Finland as single page example here - also inspected page on internet browser but requesting 'main section' here is easier to inspect at once."
   ]
  },
  {
   "cell_type": "code",
   "execution_count": 33,
   "metadata": {},
   "outputs": [
    {
     "name": "stdout",
     "output_type": "stream",
     "text": [
      "<main class=\"ecl-u-pb-xl\" id=\"main-content\">\n",
      "<div class=\"ecl-container\">\n",
      "<div class=\"ecl-row\">\n",
      "<div class=\"ecl-col-s-12\">\n",
      "<div>\n",
      "<div class=\"hidden\" data-drupal-messages-fallback=\"\"></div><div class=\"ecl-u-mb-l\" id=\"block-countrymenublock\">\n",
      "<nav class=\"ecl-u-border-bottom ecl-u-border-color-grey-20\">\n",
      "<ul class=\"ecl-unordered-list ecl-unordered-list--no-bullet ecl-u-d-flex ecl-u-justify-content-lg-between ecl-u-flex-wrap eafo-menu\">\n",
      "<li>\n",
      "<a class=\"ecl-u-mr-m eafo-menu__item\" href=\"/transport-mode/road/finland\" title=\"Summary\">\n",
      "          Summary\n",
      "        </a>\n",
      "</li>\n",
      "<li>\n",
      "<a class=\"ecl-u-mr-m eafo-menu__item\" href=\"/transport-mode/road/finland/target-tracker\" title=\"Target tracker\">\n",
      "          Target tracker\n",
      "        </a>\n",
      "</li>\n",
      "<li>\n",
      "<a class=\"ecl-u-mr-m eafo-menu__item\" href=\"/transport-mode/road/finland/vehicles-and-fleet\" title=\"Vehicles and fleet\">\n",
      "          Vehicles and fleet\n",
      "        </a>\n",
      "</li>\n",
      "<li>\n",
      "<a class=\"ecl-u-mr-m eafo-menu__item\" href=\"/transport-mode/road/finland/infrastructure\" title=\"Infrastructure\">\n",
      "          Infrastructure\n",
      "        </a>\n",
      "</li>\n",
      "<li>\n",
      "<a class=\"ecl-u-mr-m eafo-menu__item eafo-menu--active-trail\" href=\"/transport-mode/road/finland/incentives-legislations\" title=\"Incentives &amp; legislation\">\n",
      "          Incentives &amp; legislation\n",
      "        </a>\n",
      "</li>\n",
      "<li>\n",
      "<a class=\"ecl-u-mr-m eafo-menu__item\" href=\"/transport-mode/road/finland/useful-information\" title=\"Useful information\">\n",
      "          Useful information\n",
      "        </a>\n",
      "</li>\n",
      "</ul>\n",
      "</nav>\n",
      "</div>\n",
      "<div class=\"ecl-u-mb-l\" id=\"block-pb-openeuropa-main-page-content\">\n",
      "<div class=\"ecl-row ecl-u-mt-m\">\n",
      "<div class=\"ecl-col-m-12 ecl-u-pb-xl ecl-u-pb-l-none\">\n",
      "<h2 class=\"ecl-u-type-heading-2\"><h1 class=\"ecl-page-header-standardised__title ecl-u-mt-2xl ecl-u-mb-l\">Incentives and Legislation</h1>\n",
      "<div class=\"ecl\"><p>The incentives and legislations section is updated for 2025, published on 18th April 2025, representing the situation as of that date. Major changes of incentives and polices are updated on a rolling basis from that date onwards.</p><p>Incentives and legislation that aim to increase uptake of alternative fuels vehicles and infrastructure.</p><p>If you know of other national or local incentives that should be included in this section, please <a href=\"mailto:ec-alternative-fuels-observatory@ec.europa.eu\">send us an email</a>, or use the button on the right, and let us know. We review the proposed changes and implement the updates on a short notice. </p></div></h2>\n",
      "</div>\n",
      "</div>\n",
      "<div class=\"ecl-row ecl-u-mt-m\">\n",
      "<div class=\"ecl-col-m-8 ecl-u-pb-xl ecl-u-pb-l-none\">\n",
      "<div class=\"ecl\"><p class=\"ecl-u-type-prolonged-xl\"> <dl class=\"ecl-description-list ecl-description-list--horizontal ecl-description-list--full-width ecl-u-mb-2xl\"><dt class=\"ecl-description-list__term\">Purchase subsidies</dt><dd class=\"ecl-description-list__definition\"><div class=\"ecl-editor\"><p>As of 2025, Finland does not offer direct purchase subsidies for BEVs. Previous subsidy schemes for passenger electric vehicles were terminated in 2022, and no new purchase subsidies have been introduced since then.The last subsidy scheme, which offered a €2,000 subsidy for fully electric vehicles priced below €50,000, ended in 2022.</p></div></dd><dt class=\"ecl-description-list__term\">Registration tax benefits</dt><dd class=\"ecl-description-list__definition\"><div class=\"ecl-editor\"><p>Electric vehicles benefit from a significantly lower registration tax compared to gasoline-powered vehicles*. This tax is based on the vehicle's CO2 emissions, and for EVs, it's typically 0%, resulting in substantial savings. </p><p><em>*Note: In Finland, ‘car tax’ (autovero) and ‘vehicle tax’ (ajoneuvovero) are different. Car tax is a one-time tax, while vehicle tax is annual.</em></p></div></dd><dt class=\"ecl-description-list__term\">Ownership / circulation Tax Benefits</dt><dd class=\"ecl-description-list__definition\"><div class=\"ecl-editor\"><p>BEVs are not subject to car tax (autovero), which is paid only once at the time of registration or first use in Finland. However, BEVs are subject to annual vehicle tax (ajoneuvovero). For ICE vehicles, both taxes apply, with the annual vehicle tax amount based on emissions.</p></div></dd><dt class=\"ecl-description-list__term\">Company tax benefits</dt><dd class=\"ecl-description-list__definition\"><div class=\"ecl-editor\"><p>'Employees using a BEV company car get a €170/month reduction in the taxable car benefit value (valid until end of 2025).Free workplace/public charging paid by employer is tax-free for employees.</p></div></dd><dt class=\"ecl-description-list__term\">AF infrastructure incentives</dt><dd class=\"ecl-description-list__definition\"><div class=\"ecl-editor\"><p>30% subsidy for public 11 kW+ chargers and 35% for 22 kW+ fast chargers.<br/>\n",
      "Subsidies for workplace charging were valid until 2023, but new rounds may follow.<br/>\n",
      "Housing associations can receive subsidies covering up to 35% of the costs for installing charging infrastructure.</p></div></dd><dt class=\"ecl-description-list__term\">Other Financial Benefits</dt><dd class=\"ecl-description-list__definition\"><div class=\"ecl-editor\"><p>The employer can pay charging electricity at the workplace or a public charging point to the company car driver with limited car benefit or the employee driving their own car. It is tax-free for the driver. The benefit depends on whether the employer wants to pay for it or not.</p></div></dd><dt class=\"ecl-description-list__term\">Local incentives</dt><dd class=\"ecl-description-list__definition\"><div class=\"ecl-editor\"><p>Helsinki offers a 50% discount on parking fees for low-emission vehicles, including BEVs.<br/>\n",
      "Some municipalities offer free EV parking zones.</p></div></dd><dt class=\"ecl-description-list__term\">Announced policy changes (effective later in 2025 and after)</dt><dd class=\"ecl-description-list__definition\"><div class=\"ecl-editor\"><p>Starting 2026, BEVs will face increased vehicle and energy taxes (~€53 more annually for BEVs).<br/>\n",
      "Favorable company car taxation extended through 2025.</p></div></dd><dt class=\"ecl-description-list__term\">Institutions involved in Incentives </dt><dd class=\"ecl-description-list__definition\"><div class=\"ecl-editor\"><p>Ministry of Finance, Finnish Tax Administration, Ministry of Transport and Communications, Local Municipalities</p></div></dd></dl> </p></div>\n",
      "</div>\n",
      "<div class=\"ecl-col-m-4\">\n",
      "<div>\n",
      "<section class=\"ecl-hero-banner ecl-hero-banner--cta\">\n",
      "<div class=\"ecl-container\">\n",
      "<div class=\"ecl-hero-banner__container\">\n",
      "<div class=\"ecl-hero-banner__content\">\n",
      "<div class=\"ecl-hero-banner__title\">\n",
      "<p class=\"ecl-hero-banner__description\">\n",
      "<span class=\"ecl-hero-banner__description-text\">\n",
      "                 Are you aware of further incentives you want to bring to the Observatory's attention? Let us know by filling in this form.\n",
      "              </span>\n",
      "</p>\n",
      "<div class=\"ecl-hero-banner__cta\">\n",
      "<a class=\"ecl-link ecl-link--cta ecl-link--icon ecl-link--icon-after ecl-hero-banner__link-cta webform-dialog webform-dialog-narrow button\" href=\"https://alternative-fuels-observatory.ec.europa.eu/form/propose-incentive\">\n",
      "<span class=\"ecl-link__label\">Inform about incentive</span>\n",
      "<svg aria-hidden=\"true\" class=\"ecl-icon ecl-icon--xs ecl-icon--rotate-90 ecl-link__icon\" focusable=\"false\">\n",
      "<use xlink:href=\"/themes/contrib/oe_theme/dist/ec/images/icons/sprites/icons.svg#corner-arrow\">\n",
      "<symbol id=\"corner-arrow\" viewbox=\"0 0 48 48\" xmlns=\"http://www.w3.org/2000/svg\">\n",
      "<defs>\n",
      "<path d=\"M40 38 24 20 8 38l-6-6L24 8l22 24z\" id=\"alid-6a\"></path>\n",
      "</defs>\n",
      "<use xlink:href=\"#alid-6a\">\n",
      "</use>\n",
      "</symbol>\n",
      "</use>\n",
      "</svg>\n",
      "</a>\n",
      "</div>\n",
      "</div>\n",
      "</div>\n",
      "</div>\n",
      "</div>\n",
      "</section>\n",
      "</div>\n",
      "</div>\n",
      "</div>\n",
      "</div>\n",
      "</div>\n",
      "</div>\n",
      "</div>\n",
      "</div>\n",
      "</main>\n"
     ]
    }
   ],
   "source": [
    "## scrape but split into sub-sections for storage\n",
    "\n",
    "#USING FINLAND AS TEST PAGE\n",
    "url = \"https://alternative-fuels-observatory.ec.europa.eu/transport-mode/road/finland/incentives-legislations\"\n",
    "response = requests.get(url)\n",
    "soup = BeautifulSoup(response.text, \"html.parser\")\n",
    "\n",
    "# find the <main> section which contains all the content\n",
    "main_section = soup.find(\"main\")\n",
    "print(main_section)\n"
   ]
  },
  {
   "cell_type": "code",
   "execution_count": null,
   "metadata": {},
   "outputs": [],
   "source": [
    "## better understanding how the page is stored, therefore how to target the desired data\n",
    "# elements = main_section.find_all([\"dt\", \"p\", \"li\"]) if main_section else []\n",
    "# print(len(elements))\n",
    "# for e in elements[:10]:\n",
    "#     print(e.name, e.get_text(strip=True))"
   ]
  },
  {
   "cell_type": "markdown",
   "metadata": {},
   "source": [
    "* number of sub-headings on each country is variable, depending on the policies in place or leve of detail offered. \n",
    "* taking the approach of storing each subheading as its own row - so multiple rows refer to the same country"
   ]
  },
  {
   "cell_type": "markdown",
   "metadata": {},
   "source": [
    "### 3. Define Scraping Function\n"
   ]
  },
  {
   "cell_type": "code",
   "execution_count": 30,
   "metadata": {},
   "outputs": [],
   "source": [
    "# define full scraping function\n",
    "def scrape_country_policy_sections(url, country):\n",
    "    # fetch the page\n",
    "    response = requests.get(url)\n",
    "    soup = BeautifulSoup(response.text, \"html.parser\")\n",
    "\n",
    "    main_section = soup.find(\"main\")\n",
    "\n",
    "    # find the <dl> containing all the incentives\n",
    "    dl = main_section.find(\"dl\", class_=\"ecl-description-list\")\n",
    "    sections = [] \n",
    "\n",
    "    if dl:\n",
    "        for dt, dd in zip(dl.find_all(\"dt\"), dl.find_all(\"dd\")):\n",
    "            section_title = dt.get_text(strip=True)\n",
    "\n",
    "            # dd can have multiple p - join them\n",
    "            section_text = \" \".join(p.get_text(strip=True) for p in dd.find_all(\"p\"))\n",
    "\n",
    "            # skip introductiry/ boilerplate text if present \n",
    "            skip_phrases = [\n",
    "                \"The incentives and legislations section is updated\",\n",
    "                \"representing the situation as of that date\",\n",
    "                \"Major changes of incentives\"\n",
    "            ]\n",
    "            if any(phrase in section_text for phrase in skip_phrases):\n",
    "                continue\n",
    "\n",
    "\n",
    "            sections.append({\"country\": country,        # hardcoded for now\n",
    "                            \"section\": section_title,  # e.g. \"Purchase subsidies\"\n",
    "                            \"text\": section_text                 # actual description\n",
    "            \n",
    "        })\n",
    "    return sections\n"
   ]
  },
  {
   "cell_type": "markdown",
   "metadata": {},
   "source": [
    "### 4. Loop Function over Country Pages & Store Results"
   ]
  },
  {
   "cell_type": "code",
   "execution_count": 31,
   "metadata": {},
   "outputs": [
    {
     "name": "stdout",
     "output_type": "stream",
     "text": [
      "Scraping: Austria\n",
      "Scraping: Belgium\n",
      "Scraping: Bulgaria\n",
      "Scraping: Croatia\n",
      "Scraping: Cyprus\n",
      "Scraping: Czech Republic\n",
      "Scraping: Denmark\n",
      "Scraping: Estonia\n",
      "Scraping: Finland\n",
      "Scraping: France\n",
      "Scraping: Germany\n",
      "Scraping: Greece\n",
      "Scraping: Hungary\n",
      "Scraping: Iceland\n",
      "Scraping: Ireland\n",
      "Scraping: Italy\n",
      "Scraping: Latvia\n",
      "Scraping: Liechtenstein\n",
      "Scraping: Lithuania\n",
      "Scraping: Luxembourg\n",
      "Scraping: Malta\n",
      "Scraping: Netherlands\n",
      "Scraping: Norway\n",
      "Scraping: Poland\n",
      "Scraping: Portugal\n",
      "Scraping: Romania\n",
      "Scraping: Slovakia\n",
      "Scraping: Slovenia\n",
      "Scraping: Spain\n",
      "Scraping: Sweden\n",
      "Scraping: Switzerland\n",
      "Scraping: Turkey\n",
      "Scraping: United Kingdom\n",
      "Scraped rows: 318\n",
      "   country                    section  \\\n",
      "0  Austria         Purchase subsidies   \n",
      "1  Austria  Registration tax benefits   \n",
      "\n",
      "                                                text  \n",
      "0  The federal purchase subsidy scheme “E-Mobilit...  \n",
      "1  BEVs are fully exempt from the NoVA registrati...  \n"
     ]
    }
   ],
   "source": [
    "all_results = []\n",
    "# loop through all countries \n",
    "for country, url in zip(target_countries, country_urls):\n",
    "    print(\"Scraping:\", country)\n",
    "    try:\n",
    "        items = scrape_country_policy_sections(url, country)\n",
    "        all_results.extend(items)\n",
    "    except Exception as e:\n",
    "        print('Failed for', country, ':', e)\n",
    "    time.sleep(1.0) # polite pause between requests\n",
    "\n",
    "# convert to df\n",
    "df = pd.DataFrame(all_results)\n",
    "print(\"Scraped rows:\", df.shape[0])\n",
    "print(df.head(2))"
   ]
  },
  {
   "cell_type": "code",
   "execution_count": 32,
   "metadata": {},
   "outputs": [
    {
     "name": "stdout",
     "output_type": "stream",
     "text": [
      "Saved to 02 interim/policy_incentives_clean.csv\n"
     ]
    }
   ],
   "source": [
    "# save out csv\n",
    "df.to_csv(\"/Users/katehodges/Desktop/Applications/Portfolio/Electric-Europe/data/02 interim/policy_incentives_subsectioned.csv\", \n",
    "          index=False, encoding=\"utf-8\")\n",
    "print(\"Saved to 02 interim/policy_incentives_subsectioned.csv\")"
   ]
  },
  {
   "cell_type": "code",
   "execution_count": 34,
   "metadata": {},
   "outputs": [
    {
     "name": "stdout",
     "output_type": "stream",
     "text": [
      "   country                               section amount_raw  amount_min_eur  \\\n",
      "0  Austria                    Purchase subsidies        202           202.0   \n",
      "1  Austria                    Purchase subsidies          4             4.0   \n",
      "2  Austria                    Purchase subsidies        202           202.0   \n",
      "3  Austria                    Purchase subsidies          5             5.0   \n",
      "4  Austria  Ownership / Circulation Tax Benefits          1             1.0   \n",
      "\n",
      "   amount_max_eur   amount_type  amount_unit condition condition_normalized  \\\n",
      "0           202.0  flat_subsidy  per_vehicle      None                   {}   \n",
      "1             4.0  flat_subsidy  per_vehicle      None                   {}   \n",
      "2           202.0  flat_subsidy  per_vehicle      None                   {}   \n",
      "3             5.0  flat_subsidy  per_vehicle      None                   {}   \n",
      "4             1.0       unknown         None      None                   {}   \n",
      "\n",
      "   effective_to  confidence                                           raw_text  \n",
      "0           NaN        0.95  The federal purchase subsidy scheme “E-Mobilit...  \n",
      "1           NaN        0.95  The federal purchase subsidy scheme “E-Mobilit...  \n",
      "2           NaN        0.95  The federal purchase subsidy scheme “E-Mobilit...  \n",
      "3           NaN        0.95  The federal purchase subsidy scheme “E-Mobilit...  \n",
      "4           NaN        0.50  As of 1 April 2025, BEVs are no longer exempt ...  \n"
     ]
    }
   ],
   "source": [
    "amounts = []\n",
    "\n",
    "for i, row in df.iterrows():\n",
    "    country = row[\"country\"]\n",
    "    section = row[\"section\"]\n",
    "    text = row[\"text\"]\n",
    "\n",
    "    # regex to capture numbers with optional euro symbol, commoas decimals\n",
    "    number_matches = re.findall(r\"(€[\\d,]+|\\d{1,3}(?:,\\d{3})*(?:\\.\\d+)?|\\d+)\", text)\n",
    "    \n",
    "    for match in number_matches:\n",
    "        # Clean number: remove € and commas, convert to float\n",
    "        num_clean = float(match.replace(\"€\",\"\").replace(\",\",\"\"))\n",
    "        \n",
    "        # Determine type: flat subsidy vs threshold price (simple heuristic)\n",
    "        if \"subsidy\" in text.lower() or \"grant\" in text.lower():\n",
    "            amount_type = \"flat_subsidy\"\n",
    "            amount_unit = \"per_vehicle\"\n",
    "            confidence = 0.95\n",
    "        elif \"below\" in text.lower() or \"above\" in text.lower():\n",
    "            amount_type = \"threshold_price\"\n",
    "            amount_unit = \"per_vehicle\"\n",
    "            confidence = 0.8\n",
    "        else:\n",
    "            amount_type = \"unknown\"\n",
    "            amount_unit = None\n",
    "            confidence = 0.5\n",
    "        \n",
    "        # Extract simple condition if mentioned (e.g., price threshold)\n",
    "        condition = None\n",
    "        condition_normalized = {}\n",
    "        cond_match = re.search(r\"priced below €([\\d,]+)\", text)\n",
    "        if cond_match:\n",
    "            condition = f\"for fully electric vehicles priced below €{cond_match.group(1)}\"\n",
    "            condition_normalized = {\"price_below\": float(cond_match.group(1).replace(\",\",\"\"))}\n",
    "        \n",
    "        # Extract year if mentioned\n",
    "        effective_to_match = re.search(r\"ended in (\\d{4})\", text)\n",
    "        effective_to = int(effective_to_match.group(1)) if effective_to_match else None\n",
    "        \n",
    "        # Store row\n",
    "        amounts.append({\n",
    "            \"country\": country,\n",
    "            \"section\": section,\n",
    "            \"amount_raw\": match,\n",
    "            \"amount_min_eur\": num_clean,\n",
    "            \"amount_max_eur\": num_clean,  # simple assumption for now\n",
    "            \"amount_type\": amount_type,\n",
    "            \"amount_unit\": amount_unit,\n",
    "            \"condition\": condition,\n",
    "            \"condition_normalized\": condition_normalized,\n",
    "            \"effective_to\": effective_to,\n",
    "            \"confidence\": confidence,\n",
    "            \"raw_text\": text\n",
    "        })\n",
    "\n",
    "\n",
    "df_amounts = pd.DataFrame(amounts)\n",
    "print(df_amounts.head())"
   ]
  },
  {
   "cell_type": "code",
   "execution_count": 35,
   "metadata": {},
   "outputs": [],
   "source": [
    "df_amounts.to_csv(\"/Users/katehodges/Desktop/Applications/Portfolio/Electric-Europe/data/02 interim/policy_amounts.csv\",\n",
    "                  index=False, encoding=\"utf-8\")"
   ]
  }
 ],
 "metadata": {
  "kernelspec": {
   "display_name": "envGEOG0178",
   "language": "python",
   "name": "python3"
  },
  "language_info": {
   "codemirror_mode": {
    "name": "ipython",
    "version": 3
   },
   "file_extension": ".py",
   "mimetype": "text/x-python",
   "name": "python",
   "nbconvert_exporter": "python",
   "pygments_lexer": "ipython3",
   "version": "3.12.7"
  }
 },
 "nbformat": 4,
 "nbformat_minor": 2
}
