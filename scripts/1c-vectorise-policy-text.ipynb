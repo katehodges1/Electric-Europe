{
 "cells": [
  {
   "cell_type": "markdown",
   "metadata": {},
   "source": [
    "## Feed Policy Text data into sentence-transformer to get position in vector space"
   ]
  },
  {
   "cell_type": "code",
   "execution_count": 3,
   "metadata": {},
   "outputs": [],
   "source": [
    "import configparser\n",
    "import pandas as pd\n",
    "import numpy as np\n",
    "import os\n",
    "import time\n",
    "import spacy\n",
    "from spacy import displacy\n",
    "import string\n",
    "from pathlib import Path\n",
    "\n",
    "from sentence_transformers import SentenceTransformer, util\n",
    "import os\n",
    "os.environ['TF_CPP_MIN_LOG_LEVEL'] = '3'"
   ]
  },
  {
   "cell_type": "code",
   "execution_count": 4,
   "metadata": {},
   "outputs": [],
   "source": [
    "config = configparser.ConfigParser()\n",
    "config.read(\"config.ini\")\n",
    "\n",
    "# access values\n",
    "raw_path = Path(config[\"default\"][\"raw_path\"])\n",
    "interim_path = Path(config[\"default\"][\"interim_path\"])\n",
    "processed_path = Path(config[\"default\"][\"processed_path\"])"
   ]
  },
  {
   "cell_type": "code",
   "execution_count": 6,
   "metadata": {},
   "outputs": [
    {
     "data": {
      "text/html": [
       "<div>\n",
       "<style scoped>\n",
       "    .dataframe tbody tr th:only-of-type {\n",
       "        vertical-align: middle;\n",
       "    }\n",
       "\n",
       "    .dataframe tbody tr th {\n",
       "        vertical-align: top;\n",
       "    }\n",
       "\n",
       "    .dataframe thead th {\n",
       "        text-align: right;\n",
       "    }\n",
       "</style>\n",
       "<table border=\"1\" class=\"dataframe\">\n",
       "  <thead>\n",
       "    <tr style=\"text-align: right;\">\n",
       "      <th></th>\n",
       "      <th>country</th>\n",
       "      <th>section</th>\n",
       "      <th>text_clean</th>\n",
       "    </tr>\n",
       "  </thead>\n",
       "  <tbody>\n",
       "    <tr>\n",
       "      <th>0</th>\n",
       "      <td>Austria</td>\n",
       "      <td>Purchase subsidies</td>\n",
       "      <td>federal purchase subsidy scheme e mobilität 20...</td>\n",
       "    </tr>\n",
       "    <tr>\n",
       "      <th>1</th>\n",
       "      <td>Austria</td>\n",
       "      <td>Registration tax benefits</td>\n",
       "      <td>bevs are fully exempt from nova registration tax</td>\n",
       "    </tr>\n",
       "    <tr>\n",
       "      <th>2</th>\n",
       "      <td>Austria</td>\n",
       "      <td>Ownership / Circulation Tax Benefits</td>\n",
       "      <td>1 april 2025 bevs are no longer exempt from mo...</td>\n",
       "    </tr>\n",
       "    <tr>\n",
       "      <th>3</th>\n",
       "      <td>Austria</td>\n",
       "      <td>Company tax benefits</td>\n",
       "      <td>zero emission vehicles benefit from exemption ...</td>\n",
       "    </tr>\n",
       "    <tr>\n",
       "      <th>4</th>\n",
       "      <td>Austria</td>\n",
       "      <td>VAT benefits</td>\n",
       "      <td>companies may deduct vat fully for bevs priced...</td>\n",
       "    </tr>\n",
       "    <tr>\n",
       "      <th>...</th>\n",
       "      <td>...</td>\n",
       "      <td>...</td>\n",
       "      <td>...</td>\n",
       "    </tr>\n",
       "    <tr>\n",
       "      <th>275</th>\n",
       "      <td>United Kingdom</td>\n",
       "      <td>Registration tax benefits</td>\n",
       "      <td>vehicle excise duty ved</td>\n",
       "    </tr>\n",
       "    <tr>\n",
       "      <th>276</th>\n",
       "      <td>United Kingdom</td>\n",
       "      <td>Ownership tax benefits</td>\n",
       "      <td>vehicle excise duty ved</td>\n",
       "    </tr>\n",
       "    <tr>\n",
       "      <th>277</th>\n",
       "      <td>United Kingdom</td>\n",
       "      <td>Company tax benefits</td>\n",
       "      <td>benefit in kind bik tax first year capital all...</td>\n",
       "    </tr>\n",
       "    <tr>\n",
       "      <th>278</th>\n",
       "      <td>United Kingdom</td>\n",
       "      <td>AF infrastructure incentives</td>\n",
       "      <td>electric vehicle homecharge scheme evhs provid...</td>\n",
       "    </tr>\n",
       "    <tr>\n",
       "      <th>279</th>\n",
       "      <td>United Kingdom</td>\n",
       "      <td>Announced policy changes (effective later in 2...</td>\n",
       "      <td>zero emission vehicle zev mandate public inves...</td>\n",
       "    </tr>\n",
       "  </tbody>\n",
       "</table>\n",
       "<p>280 rows × 3 columns</p>\n",
       "</div>"
      ],
      "text/plain": [
       "            country                                            section  \\\n",
       "0           Austria                                 Purchase subsidies   \n",
       "1           Austria                          Registration tax benefits   \n",
       "2           Austria               Ownership / Circulation Tax Benefits   \n",
       "3           Austria                               Company tax benefits   \n",
       "4           Austria                                       VAT benefits   \n",
       "..              ...                                                ...   \n",
       "275  United Kingdom                          Registration tax benefits   \n",
       "276  United Kingdom                             Ownership tax benefits   \n",
       "277  United Kingdom                               Company tax benefits   \n",
       "278  United Kingdom                       AF infrastructure incentives   \n",
       "279  United Kingdom  Announced policy changes (effective later in 2...   \n",
       "\n",
       "                                            text_clean  \n",
       "0    federal purchase subsidy scheme e mobilität 20...  \n",
       "1     bevs are fully exempt from nova registration tax  \n",
       "2    1 april 2025 bevs are no longer exempt from mo...  \n",
       "3    zero emission vehicles benefit from exemption ...  \n",
       "4    companies may deduct vat fully for bevs priced...  \n",
       "..                                                 ...  \n",
       "275                            vehicle excise duty ved  \n",
       "276                            vehicle excise duty ved  \n",
       "277  benefit in kind bik tax first year capital all...  \n",
       "278  electric vehicle homecharge scheme evhs provid...  \n",
       "279  zero emission vehicle zev mandate public inves...  \n",
       "\n",
       "[280 rows x 3 columns]"
      ]
     },
     "execution_count": 6,
     "metadata": {},
     "output_type": "execute_result"
    }
   ],
   "source": [
    "df = pd.read_csv(interim_path/\"tokenised_policy_incentives_subsectioned.csv\")\n",
    "df"
   ]
  },
  {
   "cell_type": "markdown",
   "metadata": {},
   "source": [
    "#### Import sentence-transformer model. \n",
    "* Documentation on these options found here: https://www.sbert.net/docs/sentence_transformer/pretrained_models.html\n",
    "* Chose 'all' mini - because best general purpose model (out of those available), and was trained on all available training data. \n",
    "* 'Mini' version is faster, and small enough to run locally without any issues."
   ]
  },
  {
   "cell_type": "code",
   "execution_count": 13,
   "metadata": {},
   "outputs": [],
   "source": [
    "model = SentenceTransformer('all-MiniLM-L6-v2')"
   ]
  },
  {
   "cell_type": "markdown",
   "metadata": {},
   "source": [
    "Quick check that the model is working and returning values as expected"
   ]
  },
  {
   "cell_type": "code",
   "execution_count": 14,
   "metadata": {},
   "outputs": [
    {
     "name": "stdout",
     "output_type": "stream",
     "text": [
      "(1, 384)\n"
     ]
    }
   ],
   "source": [
    "# TEST EMBEDDINGS\n",
    "embeddings = model.encode([\"Hello world\"])\n",
    "print(embeddings.shape)"
   ]
  },
  {
   "cell_type": "markdown",
   "metadata": {},
   "source": [
    "Now apply embeddings to cleaned policy text column, storing in a new embeddings column of same dataframe to keep metadata\n",
    "* for now, I haven't included section subheadings in the text - may explore doing so? "
   ]
  },
  {
   "cell_type": "code",
   "execution_count": 16,
   "metadata": {},
   "outputs": [
    {
     "name": "stdout",
     "output_type": "stream",
     "text": [
      "(384,)\n"
     ]
    }
   ],
   "source": [
    "# apply embeddings model to policy text column\n",
    "df['embeddings'] = df['text_clean'].apply(lambda x: model.encode(x))\n",
    "\n",
    "# check results\n",
    "print(df['embeddings'][0].shape)  # embedding dimension\n"
   ]
  },
  {
   "cell_type": "code",
   "execution_count": 16,
   "metadata": {},
   "outputs": [
    {
     "data": {
      "text/html": [
       "<div>\n",
       "<style scoped>\n",
       "    .dataframe tbody tr th:only-of-type {\n",
       "        vertical-align: middle;\n",
       "    }\n",
       "\n",
       "    .dataframe tbody tr th {\n",
       "        vertical-align: top;\n",
       "    }\n",
       "\n",
       "    .dataframe thead th {\n",
       "        text-align: right;\n",
       "    }\n",
       "</style>\n",
       "<table border=\"1\" class=\"dataframe\">\n",
       "  <thead>\n",
       "    <tr style=\"text-align: right;\">\n",
       "      <th></th>\n",
       "      <th>country</th>\n",
       "      <th>section</th>\n",
       "      <th>text_clean</th>\n",
       "      <th>embeddings</th>\n",
       "    </tr>\n",
       "  </thead>\n",
       "  <tbody>\n",
       "    <tr>\n",
       "      <th>0</th>\n",
       "      <td>Austria</td>\n",
       "      <td>Purchase subsidies</td>\n",
       "      <td>federal purchase subsidy scheme e mobilität 20...</td>\n",
       "      <td>[-0.049947806, 0.004338905, 0.05885577, 0.0036...</td>\n",
       "    </tr>\n",
       "    <tr>\n",
       "      <th>1</th>\n",
       "      <td>Austria</td>\n",
       "      <td>Registration tax benefits</td>\n",
       "      <td>bevs are fully exempt from nova registration tax</td>\n",
       "      <td>[-0.019519879, -0.0025194725, 0.06559204, -0.0...</td>\n",
       "    </tr>\n",
       "    <tr>\n",
       "      <th>2</th>\n",
       "      <td>Austria</td>\n",
       "      <td>Ownership / Circulation Tax Benefits</td>\n",
       "      <td>1 april 2025 bevs are no longer exempt from mo...</td>\n",
       "      <td>[-0.035666157, 0.0037750318, 0.10083223, 0.018...</td>\n",
       "    </tr>\n",
       "    <tr>\n",
       "      <th>3</th>\n",
       "      <td>Austria</td>\n",
       "      <td>Company tax benefits</td>\n",
       "      <td>zero emission vehicles benefit from exemption ...</td>\n",
       "      <td>[0.011076084, 0.08334179, 0.082944065, -0.0180...</td>\n",
       "    </tr>\n",
       "    <tr>\n",
       "      <th>4</th>\n",
       "      <td>Austria</td>\n",
       "      <td>VAT benefits</td>\n",
       "      <td>companies may deduct vat fully for bevs priced...</td>\n",
       "      <td>[0.018948326, 0.05301374, 0.10462659, -0.05205...</td>\n",
       "    </tr>\n",
       "    <tr>\n",
       "      <th>...</th>\n",
       "      <td>...</td>\n",
       "      <td>...</td>\n",
       "      <td>...</td>\n",
       "      <td>...</td>\n",
       "    </tr>\n",
       "    <tr>\n",
       "      <th>275</th>\n",
       "      <td>United Kingdom</td>\n",
       "      <td>Registration tax benefits</td>\n",
       "      <td>vehicle excise duty ved</td>\n",
       "      <td>[-0.08971297, 0.03890533, 0.012312598, -0.0413...</td>\n",
       "    </tr>\n",
       "    <tr>\n",
       "      <th>276</th>\n",
       "      <td>United Kingdom</td>\n",
       "      <td>Ownership tax benefits</td>\n",
       "      <td>vehicle excise duty ved</td>\n",
       "      <td>[-0.08971297, 0.03890533, 0.012312598, -0.0413...</td>\n",
       "    </tr>\n",
       "    <tr>\n",
       "      <th>277</th>\n",
       "      <td>United Kingdom</td>\n",
       "      <td>Company tax benefits</td>\n",
       "      <td>benefit in kind bik tax first year capital all...</td>\n",
       "      <td>[0.004469301, 0.083178654, 0.038855247, -0.049...</td>\n",
       "    </tr>\n",
       "    <tr>\n",
       "      <th>278</th>\n",
       "      <td>United Kingdom</td>\n",
       "      <td>AF infrastructure incentives</td>\n",
       "      <td>electric vehicle homecharge scheme evhs provid...</td>\n",
       "      <td>[0.020492207, 0.045277625, -0.047004666, -0.02...</td>\n",
       "    </tr>\n",
       "    <tr>\n",
       "      <th>279</th>\n",
       "      <td>United Kingdom</td>\n",
       "      <td>Announced policy changes (effective later in 2...</td>\n",
       "      <td>zero emission vehicle zev mandate public inves...</td>\n",
       "      <td>[0.020113647, 0.018026214, 0.045192156, -0.010...</td>\n",
       "    </tr>\n",
       "  </tbody>\n",
       "</table>\n",
       "<p>280 rows × 4 columns</p>\n",
       "</div>"
      ],
      "text/plain": [
       "            country                                            section  \\\n",
       "0           Austria                                 Purchase subsidies   \n",
       "1           Austria                          Registration tax benefits   \n",
       "2           Austria               Ownership / Circulation Tax Benefits   \n",
       "3           Austria                               Company tax benefits   \n",
       "4           Austria                                       VAT benefits   \n",
       "..              ...                                                ...   \n",
       "275  United Kingdom                          Registration tax benefits   \n",
       "276  United Kingdom                             Ownership tax benefits   \n",
       "277  United Kingdom                               Company tax benefits   \n",
       "278  United Kingdom                       AF infrastructure incentives   \n",
       "279  United Kingdom  Announced policy changes (effective later in 2...   \n",
       "\n",
       "                                            text_clean  \\\n",
       "0    federal purchase subsidy scheme e mobilität 20...   \n",
       "1     bevs are fully exempt from nova registration tax   \n",
       "2    1 april 2025 bevs are no longer exempt from mo...   \n",
       "3    zero emission vehicles benefit from exemption ...   \n",
       "4    companies may deduct vat fully for bevs priced...   \n",
       "..                                                 ...   \n",
       "275                            vehicle excise duty ved   \n",
       "276                            vehicle excise duty ved   \n",
       "277  benefit in kind bik tax first year capital all...   \n",
       "278  electric vehicle homecharge scheme evhs provid...   \n",
       "279  zero emission vehicle zev mandate public inves...   \n",
       "\n",
       "                                            embeddings  \n",
       "0    [-0.049947806, 0.004338905, 0.05885577, 0.0036...  \n",
       "1    [-0.019519879, -0.0025194725, 0.06559204, -0.0...  \n",
       "2    [-0.035666157, 0.0037750318, 0.10083223, 0.018...  \n",
       "3    [0.011076084, 0.08334179, 0.082944065, -0.0180...  \n",
       "4    [0.018948326, 0.05301374, 0.10462659, -0.05205...  \n",
       "..                                                 ...  \n",
       "275  [-0.08971297, 0.03890533, 0.012312598, -0.0413...  \n",
       "276  [-0.08971297, 0.03890533, 0.012312598, -0.0413...  \n",
       "277  [0.004469301, 0.083178654, 0.038855247, -0.049...  \n",
       "278  [0.020492207, 0.045277625, -0.047004666, -0.02...  \n",
       "279  [0.020113647, 0.018026214, 0.045192156, -0.010...  \n",
       "\n",
       "[280 rows x 4 columns]"
      ]
     },
     "execution_count": 16,
     "metadata": {},
     "output_type": "execute_result"
    }
   ],
   "source": [
    "# check results\n",
    "df"
   ]
  },
  {
   "cell_type": "code",
   "execution_count": 17,
   "metadata": {},
   "outputs": [],
   "source": [
    "# save out DF with embeddings\n",
    "df.to_csv(interim_path/\"policy_embeddings.csv\", index=False)"
   ]
  }
 ],
 "metadata": {
  "kernelspec": {
   "display_name": "envGEOG0178",
   "language": "python",
   "name": "python3"
  },
  "language_info": {
   "codemirror_mode": {
    "name": "ipython",
    "version": 3
   },
   "file_extension": ".py",
   "mimetype": "text/x-python",
   "name": "python",
   "nbconvert_exporter": "python",
   "pygments_lexer": "ipython3",
   "version": "3.12.7"
  }
 },
 "nbformat": 4,
 "nbformat_minor": 2
}
